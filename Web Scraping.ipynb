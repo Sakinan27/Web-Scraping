{
 "cells": [
  {
   "cell_type": "code",
   "execution_count": 1,
   "id": "03cee4fd",
   "metadata": {},
   "outputs": [],
   "source": [
    "from bs4 import BeautifulSoup     # this is a CLASS"
   ]
  },
  {
   "cell_type": "code",
   "execution_count": 8,
   "id": "46e18026",
   "metadata": {},
   "outputs": [],
   "source": [
    "html_file = \"C:\\\\Users\\\\Sakina\\\\Desktop\\\\Data Science with Python (Simplilearn)\\\\DATA SETS\\\\wcb_scraping_example.html\""
   ]
  },
  {
   "cell_type": "code",
   "execution_count": 9,
   "id": "c15c6297",
   "metadata": {},
   "outputs": [],
   "source": [
    "soup_obj = BeautifulSoup(html_file, \"html.parser\")        # soup_obj is OBJECT"
   ]
  },
  {
   "cell_type": "code",
   "execution_count": 10,
   "id": "a716d35b",
   "metadata": {},
   "outputs": [
    {
     "name": "stdout",
     "output_type": "stream",
     "text": [
      "C:\\Users\\Sakina\\Desktop\\Data Science with Python (Simplilearn)\\DATA SETS\\wcb_scraping_example.html\n"
     ]
    }
   ],
   "source": [
    "print(soup_obj)"
   ]
  },
  {
   "cell_type": "code",
   "execution_count": 12,
   "id": "807b4d71",
   "metadata": {},
   "outputs": [],
   "source": [
    "# APPLYING FILE HANDLING\n",
    "\n",
    "\n",
    "with open(html_file,\"r\") as html_file_content:  # r is read for reading the file and saving in html_file_content\n",
    "  soup_obj2=BeautifulSoup(html_file_content,\"html.parser\")\n"
   ]
  },
  {
   "cell_type": "code",
   "execution_count": 13,
   "id": "ae2c62a5",
   "metadata": {},
   "outputs": [
    {
     "name": "stdout",
     "output_type": "stream",
     "text": [
      "<html>\n",
      "<body>\n",
      "<h1>My First Heading</h1>\n",
      "<b><!--This is a comment line--></b>\n",
      "<p class=\"test\" title=\"About Me\">My first paragraph.</p>\n",
      "<div class=\"cities\">\n",
      "<h2>London</h2>\n",
      "<h2> List of beverages at London's coffee shop</h2>\n",
      "<ul>\n",
      "<li>Coffee</li>\n",
      "<li>Tea</li>\n",
      "<li>Milk</li>\n",
      "</ul>\n",
      "<ul id=\"HR\">\n",
      "<li>Jack</li>\n",
      "<li>Mary</li>\n",
      "<li>Peterson</li>\n",
      "</ul>\n",
      "<p class=\"itmanagers\"> below is the list of IT Managers </p>\n",
      "<ul id=\"itmanagers\">\n",
      "<li>Rajesh</li>\n",
      "<li>Sheela</li>\n",
      "<li>Markov</li>\n",
      "</ul>\n",
      "</div>\n",
      "<script crossorigin=\"anonymous\" data-cf-beacon='{\"rayId\":\"6e1115deb8973396\",\"token\":\"a73834a4a1444e9ab89e8da06da41720\",\"version\":\"2021.12.0\",\"si\":100}' defer=\"\" integrity=\"sha512-Gi7xpJR8tSkrpF7aordPZQlW2DLtzUlZcumS8dMQjwDHEnw9I7ZLyiOj/6tZStRBGtGgN6ceN6cMH8z7etPGlw==\" src=\"https://static.cloudflareinsights.com/beacon.min.js/v652eace1692a40cfa3763df669d7439c1639079717194\"></script>\n",
      "</body>\n",
      "</html>\n"
     ]
    }
   ],
   "source": [
    "print(soup_obj2)"
   ]
  },
  {
   "cell_type": "code",
   "execution_count": 17,
   "id": "57ecc9bb",
   "metadata": {},
   "outputs": [
    {
     "name": "stdout",
     "output_type": "stream",
     "text": [
      "<class 'bs4.BeautifulSoup'>\n"
     ]
    }
   ],
   "source": [
    "print(type(soup_obj2))"
   ]
  },
  {
   "cell_type": "code",
   "execution_count": 18,
   "id": "2cd7fd0e",
   "metadata": {},
   "outputs": [
    {
     "data": {
      "text/plain": [
       "<p class=\"test\" title=\"About Me\">My first paragraph.</p>"
      ]
     },
     "execution_count": 18,
     "metadata": {},
     "output_type": "execute_result"
    }
   ],
   "source": [
    "soup_obj2.p   # p tag"
   ]
  },
  {
   "cell_type": "code",
   "execution_count": 19,
   "id": "4aed2af9",
   "metadata": {},
   "outputs": [
    {
     "data": {
      "text/plain": [
       "<body>\n",
       "<h1>My First Heading</h1>\n",
       "<b><!--This is a comment line--></b>\n",
       "<p class=\"test\" title=\"About Me\">My first paragraph.</p>\n",
       "<div class=\"cities\">\n",
       "<h2>London</h2>\n",
       "<h2> List of beverages at London's coffee shop</h2>\n",
       "<ul>\n",
       "<li>Coffee</li>\n",
       "<li>Tea</li>\n",
       "<li>Milk</li>\n",
       "</ul>\n",
       "<ul id=\"HR\">\n",
       "<li>Jack</li>\n",
       "<li>Mary</li>\n",
       "<li>Peterson</li>\n",
       "</ul>\n",
       "<p class=\"itmanagers\"> below is the list of IT Managers </p>\n",
       "<ul id=\"itmanagers\">\n",
       "<li>Rajesh</li>\n",
       "<li>Sheela</li>\n",
       "<li>Markov</li>\n",
       "</ul>\n",
       "</div>\n",
       "<script crossorigin=\"anonymous\" data-cf-beacon='{\"rayId\":\"6e1115deb8973396\",\"token\":\"a73834a4a1444e9ab89e8da06da41720\",\"version\":\"2021.12.0\",\"si\":100}' defer=\"\" integrity=\"sha512-Gi7xpJR8tSkrpF7aordPZQlW2DLtzUlZcumS8dMQjwDHEnw9I7ZLyiOj/6tZStRBGtGgN6ceN6cMH8z7etPGlw==\" src=\"https://static.cloudflareinsights.com/beacon.min.js/v652eace1692a40cfa3763df669d7439c1639079717194\"></script>\n",
       "</body>"
      ]
     },
     "execution_count": 19,
     "metadata": {},
     "output_type": "execute_result"
    }
   ],
   "source": [
    "# to access body tag\n",
    "\n",
    "soup_obj2.body"
   ]
  },
  {
   "cell_type": "code",
   "execution_count": 20,
   "id": "f588a467",
   "metadata": {},
   "outputs": [],
   "source": [
    "body_tag = soup_obj2.body"
   ]
  },
  {
   "cell_type": "code",
   "execution_count": 21,
   "id": "adf200d4",
   "metadata": {},
   "outputs": [
    {
     "data": {
      "text/plain": [
       "<body>\n",
       "<h1>My First Heading</h1>\n",
       "<b><!--This is a comment line--></b>\n",
       "<p class=\"test\" title=\"About Me\">My first paragraph.</p>\n",
       "<div class=\"cities\">\n",
       "<h2>London</h2>\n",
       "<h2> List of beverages at London's coffee shop</h2>\n",
       "<ul>\n",
       "<li>Coffee</li>\n",
       "<li>Tea</li>\n",
       "<li>Milk</li>\n",
       "</ul>\n",
       "<ul id=\"HR\">\n",
       "<li>Jack</li>\n",
       "<li>Mary</li>\n",
       "<li>Peterson</li>\n",
       "</ul>\n",
       "<p class=\"itmanagers\"> below is the list of IT Managers </p>\n",
       "<ul id=\"itmanagers\">\n",
       "<li>Rajesh</li>\n",
       "<li>Sheela</li>\n",
       "<li>Markov</li>\n",
       "</ul>\n",
       "</div>\n",
       "<script crossorigin=\"anonymous\" data-cf-beacon='{\"rayId\":\"6e1115deb8973396\",\"token\":\"a73834a4a1444e9ab89e8da06da41720\",\"version\":\"2021.12.0\",\"si\":100}' defer=\"\" integrity=\"sha512-Gi7xpJR8tSkrpF7aordPZQlW2DLtzUlZcumS8dMQjwDHEnw9I7ZLyiOj/6tZStRBGtGgN6ceN6cMH8z7etPGlw==\" src=\"https://static.cloudflareinsights.com/beacon.min.js/v652eace1692a40cfa3763df669d7439c1639079717194\"></script>\n",
       "</body>"
      ]
     },
     "execution_count": 21,
     "metadata": {},
     "output_type": "execute_result"
    }
   ],
   "source": [
    "body_tag"
   ]
  },
  {
   "cell_type": "code",
   "execution_count": 22,
   "id": "f5301ef4",
   "metadata": {},
   "outputs": [
    {
     "data": {
      "text/plain": [
       "<p class=\"test\" title=\"About Me\">My first paragraph.</p>"
      ]
     },
     "execution_count": 22,
     "metadata": {},
     "output_type": "execute_result"
    }
   ],
   "source": [
    "p_tag = soup_obj2.p \n",
    "p_tag"
   ]
  },
  {
   "cell_type": "code",
   "execution_count": null,
   "id": "c6380094",
   "metadata": {},
   "outputs": [],
   "source": [
    "# key value pair --- key is class, test is pair and title is class, About Me is pair"
   ]
  },
  {
   "cell_type": "code",
   "execution_count": 23,
   "id": "5b457a5b",
   "metadata": {},
   "outputs": [
    {
     "data": {
      "text/plain": [
       "{'class': ['test'], 'title': 'About Me'}"
      ]
     },
     "execution_count": 23,
     "metadata": {},
     "output_type": "execute_result"
    }
   ],
   "source": [
    "p_tag.attrs  # this will give only attributes"
   ]
  },
  {
   "cell_type": "code",
   "execution_count": 24,
   "id": "6363e7af",
   "metadata": {},
   "outputs": [
    {
     "name": "stdout",
     "output_type": "stream",
     "text": [
      "My first paragraph.\n"
     ]
    }
   ],
   "source": [
    "string_p=p_tag.string\n",
    "print(string_p)\n"
   ]
  },
  {
   "cell_type": "code",
   "execution_count": 26,
   "id": "be260a62",
   "metadata": {},
   "outputs": [
    {
     "data": {
      "text/plain": [
       "'My first paragraph.'"
      ]
     },
     "execution_count": 26,
     "metadata": {},
     "output_type": "execute_result"
    }
   ],
   "source": [
    "p_tag.get_text()"
   ]
  },
  {
   "cell_type": "code",
   "execution_count": 30,
   "id": "fb0e0cda",
   "metadata": {},
   "outputs": [
    {
     "name": "stdout",
     "output_type": "stream",
     "text": [
      "<class 'bs4.element.NavigableString'>\n"
     ]
    }
   ],
   "source": [
    "print(type(string_p))"
   ]
  },
  {
   "cell_type": "code",
   "execution_count": 27,
   "id": "f79ba8d2",
   "metadata": {},
   "outputs": [
    {
     "data": {
      "text/plain": [
       "<b><!--This is a comment line--></b>"
      ]
     },
     "execution_count": 27,
     "metadata": {},
     "output_type": "execute_result"
    }
   ],
   "source": [
    "b_tag = soup_obj2.b \n",
    "b_tag"
   ]
  },
  {
   "cell_type": "code",
   "execution_count": 33,
   "id": "e3983396",
   "metadata": {},
   "outputs": [
    {
     "name": "stdout",
     "output_type": "stream",
     "text": [
      "<class 'bs4.element.Tag'>\n"
     ]
    }
   ],
   "source": [
    "print(type(b_tag))"
   ]
  },
  {
   "cell_type": "code",
   "execution_count": 29,
   "id": "4f208eee",
   "metadata": {},
   "outputs": [
    {
     "data": {
      "text/plain": [
       "'This is a comment line'"
      ]
     },
     "execution_count": 29,
     "metadata": {},
     "output_type": "execute_result"
    }
   ],
   "source": [
    "text_b = b_tag.string\n",
    "text_b\n"
   ]
  },
  {
   "cell_type": "code",
   "execution_count": 31,
   "id": "154c3f1f",
   "metadata": {},
   "outputs": [
    {
     "name": "stdout",
     "output_type": "stream",
     "text": [
      "<class 'bs4.element.Comment'>\n"
     ]
    }
   ],
   "source": [
    "print(type(text_b))"
   ]
  },
  {
   "cell_type": "code",
   "execution_count": 34,
   "id": "08d5878f",
   "metadata": {},
   "outputs": [
    {
     "name": "stdout",
     "output_type": "stream",
     "text": [
      "<li>Coffee</li>\n"
     ]
    }
   ],
   "source": [
    "# find method -- gives data for 1st li tag\n",
    "\n",
    "li_find=soup_obj2.find(\"li\")\n",
    "print(li_find)"
   ]
  },
  {
   "cell_type": "code",
   "execution_count": 35,
   "id": "343be10c",
   "metadata": {},
   "outputs": [
    {
     "name": "stdout",
     "output_type": "stream",
     "text": [
      "[<li>Coffee</li>, <li>Tea</li>, <li>Milk</li>, <li>Jack</li>, <li>Mary</li>, <li>Peterson</li>, <li>Rajesh</li>, <li>Sheela</li>, <li>Markov</li>]\n"
     ]
    }
   ],
   "source": [
    "# find all -- to extact all li tags \n",
    "\n",
    "li_find=soup_obj2.find_all(\"li\")\n",
    "print(li_find)"
   ]
  },
  {
   "cell_type": "code",
   "execution_count": 37,
   "id": "5dd2e6bb",
   "metadata": {},
   "outputs": [
    {
     "name": "stdout",
     "output_type": "stream",
     "text": [
      "[<p class=\"test\" title=\"About Me\">My first paragraph.</p>, <li>Coffee</li>, <li>Tea</li>, <li>Milk</li>, <li>Jack</li>, <li>Mary</li>, <li>Peterson</li>, <p class=\"itmanagers\"> below is the list of IT Managers </p>, <li>Rajesh</li>, <li>Sheela</li>, <li>Markov</li>]\n"
     ]
    }
   ],
   "source": [
    "# find multiple tags\n",
    "\n",
    "li_find_all=soup_obj2.find_all([\"li\",\"p\"])\n",
    "print(li_find_all)"
   ]
  },
  {
   "cell_type": "code",
   "execution_count": 39,
   "id": "be5fb1f2",
   "metadata": {},
   "outputs": [
    {
     "name": "stdout",
     "output_type": "stream",
     "text": [
      "<p class=\"test\" title=\"About Me\">My first paragraph.</p>\n",
      "My first paragraph.\n",
      "<li>Coffee</li>\n",
      "Coffee\n",
      "<li>Tea</li>\n",
      "Tea\n",
      "<li>Milk</li>\n",
      "Milk\n",
      "<li>Jack</li>\n",
      "Jack\n",
      "<li>Mary</li>\n",
      "Mary\n",
      "<li>Peterson</li>\n",
      "Peterson\n",
      "<p class=\"itmanagers\"> below is the list of IT Managers </p>\n",
      " below is the list of IT Managers \n",
      "<li>Rajesh</li>\n",
      "Rajesh\n",
      "<li>Sheela</li>\n",
      "Sheela\n",
      "<li>Markov</li>\n",
      "Markov\n"
     ]
    }
   ],
   "source": [
    "for i in li_find_all:\n",
    "  print(i)\n",
    "  print(i.string)"
   ]
  },
  {
   "cell_type": "code",
   "execution_count": 41,
   "id": "853039ff",
   "metadata": {},
   "outputs": [
    {
     "name": "stdout",
     "output_type": "stream",
     "text": [
      "<ul id=\"HR\">\n",
      "<li>Jack</li>\n",
      "<li>Mary</li>\n",
      "<li>Peterson</li>\n",
      "</ul>\n"
     ]
    }
   ],
   "source": [
    "hr_attr=soup_obj2.find(id=\"HR\")\n",
    "print(hr_attr)"
   ]
  },
  {
   "cell_type": "code",
   "execution_count": 44,
   "id": "25fc2723",
   "metadata": {},
   "outputs": [
    {
     "name": "stdout",
     "output_type": "stream",
     "text": [
      "[<li>Jack</li>, <li>Mary</li>, <li>Peterson</li>]\n"
     ]
    }
   ],
   "source": [
    "li_tags=hr_attr.find_all(\"li\")\n",
    "print(li_tags)\n",
    "# this will give a LIST (Note-- lists are indexed)"
   ]
  },
  {
   "cell_type": "code",
   "execution_count": null,
   "id": "8c98c417",
   "metadata": {},
   "outputs": [],
   "source": [
    "li_tags=hr_attr.find_all(\"li\")\n",
    "print(li_tags)"
   ]
  },
  {
   "cell_type": "code",
   "execution_count": 45,
   "id": "0266267b",
   "metadata": {},
   "outputs": [
    {
     "name": "stdout",
     "output_type": "stream",
     "text": [
      "<li>Jack</li>\n"
     ]
    }
   ],
   "source": [
    "li_tag1=li_tags[0]\n",
    "print(li_tag1)"
   ]
  },
  {
   "cell_type": "code",
   "execution_count": 47,
   "id": "3b5604d5",
   "metadata": {},
   "outputs": [
    {
     "data": {
      "text/plain": [
       "<li>Mary</li>"
      ]
     },
     "execution_count": 47,
     "metadata": {},
     "output_type": "execute_result"
    }
   ],
   "source": [
    "li_tag1.find_next_sibling()     # press TAB key to automatically get method names"
   ]
  },
  {
   "cell_type": "code",
   "execution_count": 48,
   "id": "aa7bc465",
   "metadata": {},
   "outputs": [
    {
     "data": {
      "text/plain": [
       "[<li>Mary</li>, <li>Peterson</li>]"
      ]
     },
     "execution_count": 48,
     "metadata": {},
     "output_type": "execute_result"
    }
   ],
   "source": [
    "li_tag1.find_next_siblings()"
   ]
  },
  {
   "cell_type": "code",
   "execution_count": 49,
   "id": "aab39c28",
   "metadata": {},
   "outputs": [
    {
     "data": {
      "text/plain": [
       "<ul id=\"HR\">\n",
       "<li>Jack</li>\n",
       "<li>Mary</li>\n",
       "<li>Peterson</li>\n",
       "</ul>"
      ]
     },
     "execution_count": 49,
     "metadata": {},
     "output_type": "execute_result"
    }
   ],
   "source": [
    "li_tag1.find_parent()"
   ]
  },
  {
   "cell_type": "code",
   "execution_count": 50,
   "id": "c02e8605",
   "metadata": {},
   "outputs": [],
   "source": [
    "li_tag1.find_previous_sibling()"
   ]
  },
  {
   "cell_type": "code",
   "execution_count": 51,
   "id": "342f9526",
   "metadata": {},
   "outputs": [
    {
     "data": {
      "text/plain": [
       "[]"
      ]
     },
     "execution_count": 51,
     "metadata": {},
     "output_type": "execute_result"
    }
   ],
   "source": [
    "li_tag1.find_previous_siblings()"
   ]
  },
  {
   "cell_type": "code",
   "execution_count": 52,
   "id": "036e12c9",
   "metadata": {},
   "outputs": [
    {
     "name": "stdout",
     "output_type": "stream",
     "text": [
      "html\n",
      "body\n",
      "h1\n",
      "b\n",
      "p\n",
      "div\n",
      "h2\n",
      "h2\n",
      "ul\n",
      "li\n",
      "li\n",
      "li\n",
      "ul\n",
      "li\n",
      "li\n",
      "li\n",
      "p\n",
      "ul\n",
      "li\n",
      "li\n",
      "li\n",
      "script\n"
     ]
    }
   ],
   "source": [
    "#print all tags present in html file\n",
    "for tag in soup_obj2.find_all(True):\n",
    "  print(tag.name)"
   ]
  },
  {
   "cell_type": "code",
   "execution_count": null,
   "id": "78b33885",
   "metadata": {},
   "outputs": [],
   "source": []
  }
 ],
 "metadata": {
  "kernelspec": {
   "display_name": "Python 3",
   "language": "python",
   "name": "python3"
  },
  "language_info": {
   "codemirror_mode": {
    "name": "ipython",
    "version": 3
   },
   "file_extension": ".py",
   "mimetype": "text/x-python",
   "name": "python",
   "nbconvert_exporter": "python",
   "pygments_lexer": "ipython3",
   "version": "3.8.8"
  }
 },
 "nbformat": 4,
 "nbformat_minor": 5
}
